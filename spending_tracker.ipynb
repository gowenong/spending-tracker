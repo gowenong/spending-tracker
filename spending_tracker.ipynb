{
 "cells": [
  {
   "cell_type": "markdown",
   "metadata": {},
   "source": [
    "# Owen's Custom Spending Tracker!\n",
    "\n",
    "### What To Spend Lavishly On (Don't Think About Cutting Back On These):\n",
    "1. Unique experiences and opportunities you wouldn't usually get - atm, probably vacations after COVID\n",
    "2. Quality social time with friends (but not always stuff like \"I was too lazy to cook today let's grab food\")\n",
    "3. Things that save significant time - especially in your youth, time >>>>\n",
    "4. Things you use a LOT - buy the best that last a long time, don't be cheap - phones, laptops, beds, clothes, etc.\n",
    "5. Investing in self, things that compound, such as education, health, maybe stocks if you understand shit\n",
    "6. Giving to other people, but be genuine not just to feel better about yourself\n",
    "\n",
    "### What To Ruthlessly Cut On (And Things That Take Up a LOT of Spending):\n",
    "1. Rent/Housing - recurring, fat payments\n",
    "2. Materialistic things you don't need/won't contribute to quality time with other people\n",
    "3. Upgrading tech/models every year - don't fix what ain't broke for slight convenience improvements\n",
    "4. Anything that have a lot of hidden costs/maintenance beyond price tag, e.g. cars (at least when ur single lol)\n",
    "5. Unhealthy foods\n",
    "6. Make sure you're not paying unnecessary taxes\n",
    "7. Transportation - Lyft/Uber gah damn\n"
   ]
  },
  {
   "cell_type": "code",
   "execution_count": 1,
   "metadata": {},
   "outputs": [
    {
     "data": {
      "text/html": [
       "<div>\n",
       "<style scoped>\n",
       "    .dataframe tbody tr th:only-of-type {\n",
       "        vertical-align: middle;\n",
       "    }\n",
       "\n",
       "    .dataframe tbody tr th {\n",
       "        vertical-align: top;\n",
       "    }\n",
       "\n",
       "    .dataframe thead th {\n",
       "        text-align: right;\n",
       "    }\n",
       "</style>\n",
       "<table border=\"1\" class=\"dataframe\">\n",
       "  <thead>\n",
       "    <tr style=\"text-align: right;\">\n",
       "      <th></th>\n",
       "      <th>Name</th>\n",
       "      <th>Price</th>\n",
       "      <th>Category</th>\n",
       "      <th>Date</th>\n",
       "      <th>From</th>\n",
       "      <th>Recurring</th>\n",
       "    </tr>\n",
       "  </thead>\n",
       "  <tbody>\n",
       "    <tr>\n",
       "      <th>0</th>\n",
       "      <td>Gig</td>\n",
       "      <td>9.00</td>\n",
       "      <td>Transportation</td>\n",
       "      <td>2021-06-30</td>\n",
       "      <td>Venmo</td>\n",
       "      <td>No</td>\n",
       "    </tr>\n",
       "    <tr>\n",
       "      <th>2</th>\n",
       "      <td>Subway</td>\n",
       "      <td>9.03</td>\n",
       "      <td>Food</td>\n",
       "      <td>2021-06-30</td>\n",
       "      <td>Credit</td>\n",
       "      <td>No</td>\n",
       "    </tr>\n",
       "    <tr>\n",
       "      <th>3</th>\n",
       "      <td>Rent</td>\n",
       "      <td>1219.77</td>\n",
       "      <td>Housing</td>\n",
       "      <td>2021-06-30</td>\n",
       "      <td>Credit</td>\n",
       "      <td>Yes</td>\n",
       "    </tr>\n",
       "    <tr>\n",
       "      <th>1</th>\n",
       "      <td>Memos</td>\n",
       "      <td>7.59</td>\n",
       "      <td>Food</td>\n",
       "      <td>2021-06-30</td>\n",
       "      <td>Credit</td>\n",
       "      <td>No</td>\n",
       "    </tr>\n",
       "    <tr>\n",
       "      <th>4</th>\n",
       "      <td>Gig</td>\n",
       "      <td>6.64</td>\n",
       "      <td>Transportation</td>\n",
       "      <td>2021-06-29</td>\n",
       "      <td>Debit</td>\n",
       "      <td>No</td>\n",
       "    </tr>\n",
       "    <tr>\n",
       "      <th>5</th>\n",
       "      <td>Chipotle</td>\n",
       "      <td>11.52</td>\n",
       "      <td>Food</td>\n",
       "      <td>2021-06-29</td>\n",
       "      <td>Credit</td>\n",
       "      <td>No</td>\n",
       "    </tr>\n",
       "    <tr>\n",
       "      <th>6</th>\n",
       "      <td>Sumo Sushi</td>\n",
       "      <td>16.84</td>\n",
       "      <td>Food</td>\n",
       "      <td>2021-06-29</td>\n",
       "      <td>Credit</td>\n",
       "      <td>No</td>\n",
       "    </tr>\n",
       "    <tr>\n",
       "      <th>7</th>\n",
       "      <td>Hawaii Jeep</td>\n",
       "      <td>87.35</td>\n",
       "      <td>Vacation</td>\n",
       "      <td>2021-06-28</td>\n",
       "      <td>Venmo</td>\n",
       "      <td>No</td>\n",
       "    </tr>\n",
       "    <tr>\n",
       "      <th>8</th>\n",
       "      <td>Shake Shack</td>\n",
       "      <td>11.19</td>\n",
       "      <td>Food</td>\n",
       "      <td>2021-06-28</td>\n",
       "      <td>Credit</td>\n",
       "      <td>No</td>\n",
       "    </tr>\n",
       "    <tr>\n",
       "      <th>9</th>\n",
       "      <td>Fob Poke Bar</td>\n",
       "      <td>16.53</td>\n",
       "      <td>Food</td>\n",
       "      <td>2021-06-28</td>\n",
       "      <td>Credit</td>\n",
       "      <td>No</td>\n",
       "    </tr>\n",
       "  </tbody>\n",
       "</table>\n",
       "</div>"
      ],
      "text/plain": [
       "           Name    Price        Category       Date    From Recurring\n",
       "0           Gig     9.00  Transportation 2021-06-30   Venmo        No\n",
       "2        Subway     9.03            Food 2021-06-30  Credit        No\n",
       "3          Rent  1219.77         Housing 2021-06-30  Credit       Yes\n",
       "1         Memos     7.59            Food 2021-06-30  Credit        No\n",
       "4           Gig     6.64  Transportation 2021-06-29   Debit        No\n",
       "5      Chipotle    11.52            Food 2021-06-29  Credit        No\n",
       "6    Sumo Sushi    16.84            Food 2021-06-29  Credit        No\n",
       "7   Hawaii Jeep    87.35        Vacation 2021-06-28   Venmo        No\n",
       "8   Shake Shack    11.19            Food 2021-06-28  Credit        No\n",
       "9  Fob Poke Bar    16.53            Food 2021-06-28  Credit        No"
      ]
     },
     "execution_count": 1,
     "metadata": {},
     "output_type": "execute_result"
    }
   ],
   "source": [
    "import pandas as pd\n",
    "import numpy as np\n",
    "import seaborn as sns\n",
    "import matplotlib.pyplot as plt\n",
    "import matplotlib.dates as mdates\n",
    "import re\n",
    "import datetime\n",
    "import random\n",
    "from dateutil.relativedelta import relativedelta\n",
    "from datetime import timedelta\n",
    "%matplotlib inline\n",
    "\n",
    "# Ideally, should track 1. Name, 2. Price, 3. Category, 4. Date, 5. Venmo/Card/Checking, 6. Recurring\n",
    "abbv = {'f': 'Food', 'en': 'Entertainment', 'ho': 'Housing', 'tr' : 'Transportation', 'is': 'Insurance', 'he': 'Health',\n",
    "        'ed': 'Education', 'c': 'Clothing', 'iv': 'Investment', 'g': 'Gift', 'v': 'Vacation', 's': 'Service',\n",
    "        'd': 'Donation', 't': 'Tech', 'l': 'Living', 'o': 'Other'}\n",
    "\n",
    "# Read to nice dataframe with datetime object\n",
    "spending_df = pd.read_csv('og_spending_tracker.csv')\n",
    "\n",
    "# # Add sample rows here\n",
    "# tuition_row = {'Name':'Tuition', 'Price':7000, 'Category':'Education', 'Date':'Mar 22, 2021', 'From': 'Checking', 'Recurring': 'No'}\n",
    "# rent_row = {'Name':'Rent', 'Price':1000, 'Category':'Housing', 'Date':'Feb 1, 2021', 'From': 'Checking', 'Recurring': 'No'}\n",
    "# spending_df = spending_df.append(tuition_row, ignore_index=True)\n",
    "# spending_df = spending_df.append(rent_row, ignore_index=True)\n",
    "\n",
    "# Clean and Display\n",
    "spending_df.dropna(\n",
    "    axis=0,\n",
    "    how='any',\n",
    "    thresh=None,\n",
    "    subset=None,\n",
    "    inplace=True\n",
    ")\n",
    "spending_df['Date'] = pd.to_datetime(spending_df['Date'].str.replace(',', ''))\n",
    "spending_df = spending_df.sort_values('Date', ascending=False)\n",
    "spending_df.head(10)\n",
    "# spending_df.loc[spending_df['Category'] == 'Health']\n"
   ]
  },
  {
   "cell_type": "markdown",
   "metadata": {},
   "source": [
    "## Here are some methods for calculating Spending on Name, Category, or Date\n",
    "Edit column, specific entry in column, and excluding entries below"
   ]
  },
  {
   "cell_type": "code",
   "execution_count": 7,
   "metadata": {},
   "outputs": [],
   "source": [
    "def how_much_did_i_spend(df, start_date, end_date, col='all', name='Total', exclude=[]):\n",
    "    relevant_df = df.loc[df['Date'] >= start_date].loc[df['Date'] <= end_date]\n",
    "    for c, val in exclude:\n",
    "        relevant_df.drop(index=relevant_df[relevant_df[c] == val].index, inplace=True)\n",
    "    try:\n",
    "        if col != 'all':\n",
    "            if col == 'Category' and len(name) <= 2:\n",
    "                try:\n",
    "                    name = abbv[name]\n",
    "                except KeyError:\n",
    "                    print('Not a valid category!')\n",
    "            group_total = relevant_df.groupby(col).sum()\n",
    "            total_spending = round(group_total.loc[name]['Price'], 2)\n",
    "            if col == 'Recurring':\n",
    "                name = 'Recurring'\n",
    "        else:\n",
    "            name='Total'\n",
    "            total_spending = round(relevant_df['Price'].sum(), 2)\n",
    "            print(total_spending)\n",
    "    except KeyError:\n",
    "        total_spending = 0.0\n",
    "        \n",
    "    print('I spent ${0} on {1} from {2} to {3} excluding {4}'\n",
    "          .format(total_spending, name, start_date.strftime(\"%B %d %Y\"), end_date.strftime(\"%B %d %Y\"), exclude))\n",
    "    return total_spending"
   ]
  },
  {
   "cell_type": "code",
   "execution_count": 8,
   "metadata": {},
   "outputs": [
    {
     "name": "stdout",
     "output_type": "stream",
     "text": [
      "6307.89\n",
      "I spent $6307.89 on Total from January 01 2021 to July 01 2021 excluding [('Name', 'Tuition'), ('Category', 'Housing')]\n"
     ]
    },
    {
     "data": {
      "text/plain": [
       "6307.89"
      ]
     },
     "execution_count": 8,
     "metadata": {},
     "output_type": "execute_result"
    }
   ],
   "source": [
    "# ENTER VALUES HERE\n",
    "df = spending_df\n",
    "start_date = datetime.datetime(2021, 1, 1)\n",
    "end_date = datetime.datetime(2021, 7, 1)\n",
    "\n",
    "# col defaults to 'all', name defaults to 'Total'\n",
    "cat = 'Category'\n",
    "col = 'all'\n",
    "name = 'v'\n",
    "exclude = [('Name', 'Tuition'), ('Category', 'Housing')]\n",
    "# exclude.append(('Category', 'Vacation'))\n",
    "# exclude = []\n",
    "\n",
    "how_much_did_i_spend(df, start_date, end_date, col, name, exclude)"
   ]
  },
  {
   "cell_type": "markdown",
   "metadata": {},
   "source": [
    "## Here are some nice Visualizations"
   ]
  },
  {
   "cell_type": "markdown",
   "metadata": {},
   "source": [
    "### Pie Chart of Spending Categories"
   ]
  },
  {
   "cell_type": "code",
   "execution_count": 9,
   "metadata": {},
   "outputs": [
    {
     "data": {
      "image/png": "[encoded data removed]",
      "text/plain": [
       "<Figure size 432x288 with 1 Axes>"
      ]
     },
     "metadata": {},
     "output_type": "display_data"
    },
    {
     "name": "stdout",
     "output_type": "stream",
     "text": [
      "Percentages spent on each category:\n",
      "\n",
      "Category\n",
      "Vacation          55.74\n",
      "Food              31.87\n",
      "Health             5.13\n",
      "Transportation     2.96\n",
      "Gift               1.94\n",
      "Living             1.64\n",
      "Clothing           0.32\n",
      "Service            0.31\n",
      "Other              0.09\n",
      "Name: Price, dtype: float64\n"
     ]
    }
   ],
   "source": [
    "start_date = datetime.datetime(2021, 5, 22)\n",
    "end_date = datetime.datetime(2021, 8, 1)\n",
    "\n",
    "def plot_categories(df, start_date, end_date, exclude=[]):\n",
    "    relevant_df = df.loc[df['Date'] >= start_date].loc[df['Date'] <= end_date]\n",
    "    for c, val in exclude:\n",
    "        relevant_df.drop(index=relevant_df[relevant_df[c] == val].index, inplace=True)\n",
    "    \n",
    "    # Actual Logic\n",
    "    category_totals = relevant_df.groupby('Category').sum()['Price']\n",
    "    fig1, ax1 = plt.subplots()\n",
    "    # explosion\n",
    "    explode = [0.05] * len(category_totals)\n",
    "    ax1.pie(category_totals, labels=category_totals.keys(), autopct='%1.1f%%', startangle=90, pctdistance=0.85, explode = explode)\n",
    "    # draw circle\n",
    "    centre_circle = plt.Circle((0,0),0.70,fc='white')\n",
    "    fig = plt.gcf()\n",
    "    fig.gca().add_artist(centre_circle)\n",
    "    # Equal aspect ratio ensures that pie is drawn as a circle\n",
    "    ax1.axis('equal')  \n",
    "    plt.tight_layout()\n",
    "    plt.title('Percent Spending from {0} to {1} excluding {2}'.format(start_date.strftime(\"%B %d %Y\"), end_date.strftime(\"%B %d %Y\"), exclude))\n",
    "    plt.show()\n",
    "    \n",
    "    # Display percentages in table\n",
    "    cat_percentages = np.round((category_totals / sum(category_totals))*100, 2).sort_values(ascending=False)\n",
    "    print('Percentages spent on each category:')\n",
    "    print()\n",
    "    print(cat_percentages) \n",
    "\n",
    "plot_categories(df, start_date, end_date, exclude)"
   ]
  },
  {
   "cell_type": "markdown",
   "metadata": {},
   "source": [
    "### Line Chart of Spending Over Categories Over Time"
   ]
  },
  {
   "cell_type": "code",
   "execution_count": 10,
   "metadata": {},
   "outputs": [],
   "source": [
    "# Helper function\n",
    "def calculate_y(df, start_date, delta, delta_value, category):\n",
    "    y = []\n",
    "    for i in range(delta_value):\n",
    "        if delta == 'm':\n",
    "            relevant_df_delta = df.loc[df['Date'] >= start_date + relativedelta(months=+i)] \\\n",
    "                                                .loc[df['Date'] < start_date + relativedelta(months=+(i+1))]\n",
    "        elif delta == 'y':\n",
    "            relevant_df_delta = df.loc[df['Date'] >= start_date + relativedelta(years=+i)] \\\n",
    "                                                .loc[df['Date'] < start_date + relativedelta(years=+(i+1))]\n",
    "        elif delta == 'w':\n",
    "            relevant_df_delta = df.loc[df['Date'] >= start_date + relativedelta(weeks=+i)] \\\n",
    "                                                .loc[df['Date'] < start_date + relativedelta(weeks=+(i+1))]\n",
    "        if category == 'all':\n",
    "            spending_delta = round(relevant_df_delta['Price'].sum(), 2)\n",
    "        else:\n",
    "            try:\n",
    "                category_totals = relevant_df_delta.groupby('Category').sum().loc[category]['Price']\n",
    "                spending_delta = round(category_totals, 2)\n",
    "            except KeyError:\n",
    "                spending_delta = 0\n",
    "        y.append(spending_delta)\n",
    "    return y"
   ]
  },
  {
   "cell_type": "code",
   "execution_count": 11,
   "metadata": {},
   "outputs": [],
   "source": [
    "def spending_over_time(df, start_date, end_date, delta, category='all', exclude=[]):\n",
    "    \n",
    "    relevant_df = df.copy()\n",
    "    for c, val in exclude:\n",
    "        relevant_df.drop(index=relevant_df[relevant_df[c] == val].index, inplace=True)\n",
    "        \n",
    "    # time deltas\n",
    "    delta_value = (end_date.year - start_date.year) * 12 + (end_date.month - start_date.month)\n",
    "    delta_name = 'months'\n",
    "    if len(category) <= 2:\n",
    "        category = abbv[category]\n",
    "    \n",
    "    if delta == 'm':\n",
    "        x = [start_date + relativedelta(months=+i) for i in range(delta_value)]\n",
    "        y = calculate_y(relevant_df, start_date, delta, delta_value, category)\n",
    "    elif delta == 'y':\n",
    "        delta_value = (end_date.year - start_date.year)\n",
    "        delta_name = 'years'\n",
    "        x = [start_date + relativedelta(years=+i) for i in range(delta_value)]\n",
    "        y = calculate_y(relevant_df, start_date, delta, delta_value, category)\n",
    "    elif delta == 'w':\n",
    "        monday1 = (start_date - timedelta(days=start_date.weekday()))\n",
    "        monday2 = (end_date - timedelta(days=end_date.weekday()))\n",
    "        delta_value = int((monday2 - monday1).days / 7)\n",
    "        delta_name = 'weeks'\n",
    "        x = [start_date + relativedelta(weeks=+i) for i in range(delta_value)]\n",
    "        y = calculate_y(relevant_df, start_date, delta, delta_value, category)\n",
    "    \n",
    "    # Plotting line graph\n",
    "    fig, ax = plt.subplots(figsize=(12, 8))\n",
    "    ax.xaxis.set_major_locator(mdates.MonthLocator())\n",
    "    ax.xaxis.set_major_formatter(mdates.DateFormatter('%B %Y'))\n",
    "    ax.xaxis.set_minor_locator(mdates.MonthLocator())\n",
    "    \n",
    "    plt.bar(x,y, width=10)\n",
    "    \n",
    "    # beautify the x-labels\n",
    "    plt.gcf().autofmt_xdate()\n",
    "    plt.title('Spending over {0} {1} from {2} to {3} in {4} excluding {5}'\n",
    "              .format(delta_value, delta_name, start_date.strftime(\"%B %d %Y\"), end_date.strftime(\"%B %d %Y\"), \n",
    "                      category, exclude))\n",
    "    plt.xlabel('Time ({0})'.format(delta_name))\n",
    "    plt.ylabel('Spending (in USD $)')\n",
    "    if category is not type(list):\n",
    "        plt.legend([category])\n",
    "    else:\n",
    "        plt.legend(category)\n",
    "        \n",
    "    plt.show()\n",
    "    return y"
   ]
  },
  {
   "cell_type": "code",
   "execution_count": 13,
   "metadata": {},
   "outputs": [
    {
     "data": {
      "image/png": "[encoded data removed]",
      "text/plain": [
       "<Figure size 864x576 with 1 Axes>"
      ]
     },
     "metadata": {
      "needs_background": "light"
     },
     "output_type": "display_data"
    },
    {
     "data": {
      "text/plain": [
       "[226.38, 394.53, 576.8, 819.52, 1398.71, 2891.95, 0.0, 0.0, 0.0, 0.0, 0.0, 0.0]"
      ]
     },
     "execution_count": 13,
     "metadata": {},
     "output_type": "execute_result"
    }
   ],
   "source": [
    "# ENTER VALUES HERE\n",
    "df = spending_df\n",
    "start_date = datetime.datetime(2021, 1, 1)\n",
    "end_date = datetime.datetime(2022, 1, 1)\n",
    "delta = 'm'\n",
    "category = 'all'\n",
    "exclude = [('Name', 'Tuition'), ('Category', 'Housing')]\n",
    "# exclude.append(('Category', 'Vacation'))\n",
    "# exclude.append(('Category', 'Tech'))\n",
    "# exclude = []\n",
    "\n",
    "spending_info = spending_over_time(df, start_date, end_date, delta, category, exclude)\n",
    "spending_info"
   ]
  },
  {
   "cell_type": "markdown",
   "metadata": {},
   "source": [
    "## Average spending per month/year, and what individual items you've spent most on"
   ]
  },
  {
   "cell_type": "code",
   "execution_count": 34,
   "metadata": {},
   "outputs": [
    {
     "name": "stdout",
     "output_type": "stream",
     "text": [
      "Average spending per month: 690.2262499999999\n",
      "Total spending this year: 5521.8099999999995\n"
     ]
    }
   ],
   "source": [
    "avg_spending_month = np.sum(spending_info) / np.count_nonzero(spending_info)\n",
    "print('Average spending per month: {0}'.format(avg_spending_month))\n",
    "print('Total spending this year: {0}'.format(np.sum(spending_info)))"
   ]
  },
  {
   "cell_type": "code",
   "execution_count": 35,
   "metadata": {},
   "outputs": [
    {
     "data": {
      "text/html": [
       "<div>\n",
       "<style scoped>\n",
       "    .dataframe tbody tr th:only-of-type {\n",
       "        vertical-align: middle;\n",
       "    }\n",
       "\n",
       "    .dataframe tbody tr th {\n",
       "        vertical-align: top;\n",
       "    }\n",
       "\n",
       "    .dataframe thead th {\n",
       "        text-align: right;\n",
       "    }\n",
       "</style>\n",
       "<table border=\"1\" class=\"dataframe\">\n",
       "  <thead>\n",
       "    <tr style=\"text-align: right;\">\n",
       "      <th></th>\n",
       "      <th>Name</th>\n",
       "      <th>Price</th>\n",
       "      <th>Category</th>\n",
       "      <th>Date</th>\n",
       "      <th>From</th>\n",
       "      <th>Recurring</th>\n",
       "    </tr>\n",
       "  </thead>\n",
       "  <tbody>\n",
       "    <tr>\n",
       "      <th>323</th>\n",
       "      <td>Flight Tickets</td>\n",
       "      <td>258.40</td>\n",
       "      <td>Gift</td>\n",
       "      <td>2021-03-21</td>\n",
       "      <td>Credit</td>\n",
       "      <td>No</td>\n",
       "    </tr>\n",
       "    <tr>\n",
       "      <th>331</th>\n",
       "      <td>Weeknd Concert</td>\n",
       "      <td>210.40</td>\n",
       "      <td>Entertainment</td>\n",
       "      <td>2021-02-25</td>\n",
       "      <td>Venmo</td>\n",
       "      <td>No</td>\n",
       "    </tr>\n",
       "    <tr>\n",
       "      <th>300</th>\n",
       "      <td>Porter Robinson Concert</td>\n",
       "      <td>158.90</td>\n",
       "      <td>Entertainment</td>\n",
       "      <td>2021-05-06</td>\n",
       "      <td>Credit</td>\n",
       "      <td>No</td>\n",
       "    </tr>\n",
       "    <tr>\n",
       "      <th>291</th>\n",
       "      <td>Uniqlo</td>\n",
       "      <td>109.92</td>\n",
       "      <td>Clothing</td>\n",
       "      <td>2021-05-20</td>\n",
       "      <td>Credit</td>\n",
       "      <td>No</td>\n",
       "    </tr>\n",
       "    <tr>\n",
       "      <th>13</th>\n",
       "      <td>23andMe</td>\n",
       "      <td>108.95</td>\n",
       "      <td>Education</td>\n",
       "      <td>2021-08-27</td>\n",
       "      <td>Credit</td>\n",
       "      <td>No</td>\n",
       "    </tr>\n",
       "  </tbody>\n",
       "</table>\n",
       "</div>"
      ],
      "text/plain": [
       "                        Name   Price       Category       Date    From  \\\n",
       "323           Flight Tickets  258.40           Gift 2021-03-21  Credit   \n",
       "331           Weeknd Concert  210.40  Entertainment 2021-02-25   Venmo   \n",
       "300  Porter Robinson Concert  158.90  Entertainment 2021-05-06  Credit   \n",
       "291                   Uniqlo  109.92       Clothing 2021-05-20  Credit   \n",
       "13                   23andMe  108.95      Education 2021-08-27  Credit   \n",
       "\n",
       "    Recurring  \n",
       "323        No  \n",
       "331        No  \n",
       "300        No  \n",
       "291        No  \n",
       "13         No  "
      ]
     },
     "execution_count": 35,
     "metadata": {},
     "output_type": "execute_result"
    }
   ],
   "source": [
    "relevant_df = spending_df.copy()\n",
    "\n",
    "# Comment out if don't want to exclude \n",
    "for c, val in exclude:\n",
    "    relevant_df.drop(index=relevant_df[relevant_df[c] == val].index, inplace=True)\n",
    "        \n",
    "relevant_df.sort_values('Price', ascending=False).head()"
   ]
  },
  {
   "cell_type": "code",
   "execution_count": null,
   "metadata": {},
   "outputs": [],
   "source": []
  }
 ],
 "metadata": {
  "kernelspec": {
   "display_name": "Python 3",
   "language": "python",
   "name": "python3"
  },
  "language_info": {
   "codemirror_mode": {
    "name": "ipython",
    "version": 3
   },
   "file_extension": ".py",
   "mimetype": "text/x-python",
   "name": "python",
   "nbconvert_exporter": "python",
   "pygments_lexer": "ipython3",
   "version": "3.9.6"
  }
 },
 "nbformat": 4,
 "nbformat_minor": 2
}
